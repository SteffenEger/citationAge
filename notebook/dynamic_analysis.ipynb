{
 "cells": [
  {
   "cell_type": "code",
   "execution_count": null,
   "outputs": [],
   "source": [
    "import numpy as np     # v 1.19.2\n",
    "import pandas as pd    # v 1.1.3\n",
    "import seaborn as sns  # v 0.11.0\n",
    "\n",
    "# libraries\n",
    "import matplotlib.pyplot as plt\n",
    "\n",
    "# Control figure size for this notebook:\n",
    "plt.rcParams['figure.figsize'] = [9, 9]\n",
    "\n",
    "x = [-0.026, 0.004, -0.008, 0.011, -0.09, -0.061, -0.047, -0.039, 0.011, -0.012, 0.012, 0.032, 0.016, 0.05, 0.093]\n",
    "y = [0.247, 0.044, 0.026, 0.108, 0.356, 0.357, 0.369, 0.316, -0.028, 0.077, 0.157, 0.002, 0.084, 0.5, 0]\n",
    "#x = [-0.301,0.027,-0.104,0.104,-1.000,-0.683,-0.530,-0.443,0.104,-0.148,0.115,0.333,0.158,0.530,1.000]\n",
    "#y = [0.042,-0.727,-0.795,-0.485,0.455,0.458,0.504,0.303,-1.000,-0.602,-0.299,-0.886,-0.576,1.000,0]\n",
    "cat = ['cs.CR', 'cs.IT' , 'cs.NI', 'cs.DS', 'cs.AI', 'cs.CL', 'cs.CV', 'cs.LG', 'q-bio.PE', 'q-fin.ST','stat.ME', 'hep-ph', 'math.AP', 'econ.GN', 'eess.SP']\n",
    "group= [0, 0, 0, 0, 1, 1, 1, 1, 2, 2, 2, 2, 2, 2, 2]\n",
    "\n",
    "print(len(x), len(y), len(cat), len(group))\n",
    "df = pd.DataFrame({\"x\": x,\n",
    "                     \"y\": y,\n",
    "                     \"cat\": cat,\n",
    "                     \"group\": group})\n",
    "\n",
    "\n",
    "# use the scatterplot function to build the bubble map\n",
    "ax = sns.scatterplot(x=df.x, y=df.y, hue=df.group, legend=False, s=2000, palette='pastel',zorder=3)\n",
    "ax.axhline(y=0, linewidth=0.75, color='k', zorder=2)\n",
    "ax.axvline(x=0, linewidth=0.75, color='k', zorder=2)\n",
    "\n",
    "for i, txt in enumerate(df.cat):\n",
    "    #ax.annotate(txt, (df.x.iat[i],df.y.iat[i]))\n",
    "    ax.text(df.x.iat[i], df.y.iat[i], txt, horizontalalignment='center', size='small', color='black'\n",
    "    #, weight='semibold'\n",
    "    )\n",
    "\n",
    "# Set x-axis label\n",
    "plt.xlabel('Yearly Age of Citation Increases')\n",
    "# Set y-axis label\n",
    "plt.ylabel('Yearly Submission Increases')\n",
    "\n",
    "# show the graph\n",
    "plt.grid(zorder=1)\n",
    "plt.savefig(\"dynamic_unnormalized.pdf\")\n",
    "plt.show()\n"
   ],
   "metadata": {
    "collapsed": false
   }
  }
 ],
 "metadata": {
  "kernelspec": {
   "display_name": "Python 3",
   "language": "python",
   "name": "python3"
  },
  "language_info": {
   "codemirror_mode": {
    "name": "ipython",
    "version": 2
   },
   "file_extension": ".py",
   "mimetype": "text/x-python",
   "name": "python",
   "nbconvert_exporter": "python",
   "pygments_lexer": "ipython2",
   "version": "2.7.6"
  }
 },
 "nbformat": 4,
 "nbformat_minor": 0
}
