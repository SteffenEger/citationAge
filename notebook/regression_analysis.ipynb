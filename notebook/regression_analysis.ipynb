{
 "cells": [
  {
   "cell_type": "code",
   "execution_count": null,
   "id": "927acf4c-7f92-4d46-b7f4-ff4216022770",
   "metadata": {},
   "outputs": [],
   "source": [
    "import os\n",
    "import json\n",
    "import math\n",
    "import numpy as np\n",
    "import scipy\n",
    "import matplotlib.pyplot as plt\n",
    "import pandas as pd\n",
    "import seaborn as sns\n",
    "%matplotlib inline"
   ]
  },
  {
   "cell_type": "code",
   "execution_count": null,
   "id": "405143ca-9002-4dda-85c9-1643b7774523",
   "metadata": {},
   "outputs": [],
   "source": [
    "# box plotting the data"
   ]
  },
  {
   "cell_type": "code",
   "execution_count": null,
   "id": "19184a14-3c83-474e-b899-566f7acaada5",
   "metadata": {},
   "outputs": [],
   "source": [
    "def normalize_age(ref_years, year, threshold=20):\n",
    "    ages = []\n",
    "\n",
    "    for pub_year in ref_years:\n",
    "        if pub_year and math.isnan(float(pub_year)) is not True:\n",
    "            if year - int(pub_year) > threshold:\n",
    "                pub_year = year-threshold\n",
    "            ages.append(year-int(pub_year))\n",
    "    return ages"
   ]
  },
  {
   "cell_type": "code",
   "execution_count": null,
   "id": "272b225e-d0be-42d2-a3bd-577a99827af9",
   "metadata": {},
   "outputs": [],
   "source": [
    "cat = \"cs.AI\"\n",
    "threshold = 50\n",
    "\n",
    "results = {}\n",
    "for year in range(2013, 2024):\n",
    "    if os.path.exists(os.path.join(os.getcwd(),f\"../data/{cat}/{year}/output.json\")):\n",
    "        with open(os.path.join(os.getcwd(),f\"../data/{cat}/{year}/output.json\"), \"r\") as fp:\n",
    "            content = json.load(fp)\n",
    "            reference_year = []\n",
    "            for paper in content:\n",
    "                reference_year.extend([ref[\"year\"] for ref in paper[\"reference\"]])\n",
    "\n",
    "            reference_age = normalize_age(reference_year, year, threshold)\n",
    "            results[year] = reference_age"
   ]
  },
  {
   "cell_type": "code",
   "execution_count": null,
   "id": "9a2e8771-2c4f-475c-9440-fc5f646a6e12",
   "metadata": {},
   "outputs": [],
   "source": [
    "df = pd.DataFrame({'2013': pd.Series(results[2013]), \n",
    "                   '2014': pd.Series(results[2014]),\n",
    "                   '2015': pd.Series(results[2015]),\n",
    "                   '2016': pd.Series(results[2016]),\n",
    "                   '2017': pd.Series(results[2017]),\n",
    "                   '2018': pd.Series(results[2017]),\n",
    "                   '2019': pd.Series(results[2017]),\n",
    "                   '2020': pd.Series(results[2017]),\n",
    "                   '2021': pd.Series(results[2017]),\n",
    "                   '2022': pd.Series(results[2017]),\n",
    "                   '2023': pd.Series(results[2017])\n",
    "                  })"
   ]
  },
  {
   "cell_type": "code",
   "execution_count": null,
   "id": "6c2cb0ab-ef3e-4785-92ab-1151628587ae",
   "metadata": {},
   "outputs": [],
   "source": [
    "df.head()"
   ]
  },
  {
   "cell_type": "code",
   "execution_count": null,
   "id": "73564577-0a95-4049-ba35-d09d6820d278",
   "metadata": {},
   "outputs": [],
   "source": [
    "sns.set(style='whitegrid')\n",
    "facecolor = '#eaeaf2'\n",
    "plt.ioff()\n",
    "fig, ax = plt.subplots(figsize=(10, 6), facecolor=facecolor)"
   ]
  },
  {
   "cell_type": "code",
   "execution_count": null,
   "id": "4beb6e17-f832-49fe-b3dc-77d603628d4b",
   "metadata": {},
   "outputs": [],
   "source": [
    "font_color = '#525252'\n",
    "csfont = {'fontname':'Georgia'}\n",
    "hfont = {'fontname':'Calibri'}\n",
    "\n",
    "ax.set_ylabel('USD', fontsize=16, color=font_color, **hfont)\n",
    "for label in (ax.get_xticklabels() + ax.get_yticklabels()):\n",
    "    label.set(fontsize=16, color=font_color, **hfont)"
   ]
  },
  {
   "cell_type": "code",
   "execution_count": null,
   "id": "9db16afc-4571-4cb4-91c1-b408705a7ee9",
   "metadata": {},
   "outputs": [],
   "source": [
    "title = 'Citation Age, 2013–2023'\n",
    "fig.suptitle(title, y=.97, fontsize=22, color=font_color, **csfont)\n",
    "subtitle = 'Source: Arxiv'\n",
    "plt.title(subtitle, fontsize=18, pad=10, color=font_color, **hfont)\n",
    "plt.subplots_adjust(top=0.85)"
   ]
  },
  {
   "cell_type": "code",
   "execution_count": null,
   "id": "b662e493-2982-4d68-bef7-2bad33a2988b",
   "metadata": {},
   "outputs": [],
   "source": [
    "for i, box in enumerate(ax.artists):\n",
    "    col = box.get_facecolor()\n",
    "    plt.setp(ax.lines[i*6+5], mfc=col, mec=col)"
   ]
  },
  {
   "cell_type": "code",
   "execution_count": null,
   "id": "24b6ecde-8114-4615-b056-f45fcbf986b4",
   "metadata": {},
   "outputs": [],
   "source": [
    "lines = ax.get_lines()\n",
    "categories = ax.get_xticks()\n",
    "\n",
    "for cat in categories:\n",
    "    y = round(lines[4+cat*6].get_ydata()[0],1) \n",
    "    ax.text(\n",
    "        cat, \n",
    "        y, \n",
    "        f'{y}', \n",
    "        ha='center', \n",
    "        va='center', \n",
    "        fontweight='semibold', \n",
    "        size=12,\n",
    "        color='white',\n",
    "        bbox=dict(facecolor='#828282', edgecolor='#828282')\n",
    "    )\n",
    "    "
   ]
  },
  {
   "cell_type": "code",
   "execution_count": null,
   "id": "f37ad9ab-d009-4e7c-b6c9-5ef153e81191",
   "metadata": {},
   "outputs": [],
   "source": [
    "ax = sns.boxplot(data=df, \n",
    "                 palette='Set3', \n",
    "                 linewidth=1.2, \n",
    "                 fliersize=2, \n",
    "                 order=['2013', '2014', '2015', '2016', '2017', '2018','2019','2020','2021','2022','2023'],\n",
    "                 flierprops=dict(marker='o', markersize=4))"
   ]
  },
  {
   "cell_type": "code",
   "execution_count": null,
   "id": "b682dd06-680b-419e-84e2-e561e81ef0b0",
   "metadata": {},
   "outputs": [],
   "source": [
    "# regession"
   ]
  },
  {
   "cell_type": "code",
   "execution_count": null,
   "id": "bbd545f7-065b-4cf8-b50e-9c745b53a03b",
   "metadata": {},
   "outputs": [],
   "source": [
    "#correlation test"
   ]
  },
  {
   "cell_type": "code",
   "execution_count": null,
   "id": "0099799e-68a7-45bb-a7d1-b5aadb8ed55d",
   "metadata": {},
   "outputs": [],
   "source": [
    "# Number of papers increases "
   ]
  },
  {
   "cell_type": "code",
   "execution_count": null,
   "id": "bb15d4a8-b1f6-4ea6-bbaa-e6104f8caf12",
   "metadata": {},
   "outputs": [],
   "source": [
    "# Fit the regression line \n",
    "cat = \"cs.CV\"\n",
    "statistics = pd.read_csv(os.path.join(os.getcwd(),f\"../data/{cat}/statistics.csv\"), \n",
    "                         header=0, index_col=0)\n",
    "print(statistics.head())"
   ]
  },
  {
   "cell_type": "code",
   "execution_count": null,
   "id": "8f1b376e-9461-4dd1-977a-7754195fa215",
   "metadata": {},
   "outputs": [],
   "source": [
    "x = [i for i in range(0, 11)]\n",
    "y = statistics[\"Mean\"][0:11]\n",
    "coef = np.polyfit(x,y,1)\n",
    "print(coef)\n",
    "poly1d_fn = np.poly1d(coef) \n",
    "\n",
    "plt.plot(x,y, 'yo', x, poly1d_fn(x), '--k') #'--k'=black dashed line, 'yo' = yellow circle marker\n",
    "plt.xlim([-1, 11])\n",
    "plt.ylim(0, 12)"
   ]
  }
 ],
 "metadata": {
  "kernelspec": {
   "display_name": "Python 3 (ipykernel)",
   "language": "python",
   "name": "python3"
  },
  "language_info": {
   "codemirror_mode": {
    "name": "ipython",
    "version": 3
   },
   "file_extension": ".py",
   "mimetype": "text/x-python",
   "name": "python",
   "nbconvert_exporter": "python",
   "pygments_lexer": "ipython3",
   "version": "3.10.12"
  }
 },
 "nbformat": 4,
 "nbformat_minor": 5
}
