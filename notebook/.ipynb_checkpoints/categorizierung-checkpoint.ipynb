{
 "cells": [
  {
   "cell_type": "code",
   "execution_count": 12,
   "id": "68568538-1455-4f67-a538-808e06f158fe",
   "metadata": {},
   "outputs": [],
   "source": [
    "import os\n",
    "import json\n",
    "import operator\n",
    "import re\n",
    "import pandas as pd\n",
    "from tqdm import tqdm\n",
    "from collections import Counter\n",
    "import matplotlib.pyplot as plt\n",
    "import seaborn as sns\n",
    "import matplotlib.colors as cm\n",
    "import numpy as np"
   ]
  },
  {
   "cell_type": "code",
   "execution_count": 9,
   "id": "dcca17af-1386-468d-8fd5-4f96d2c72f31",
   "metadata": {},
   "outputs": [
    {
     "name": "stderr",
     "output_type": "stream",
     "text": [
      "2354025it [01:46, 22049.87it/s]\n"
     ]
    }
   ],
   "source": [
    "# read json file \n",
    "path = os.path.join(os.path.dirname(os.getcwd()), \"data/categorization/arxiv-metadata-oai-snapshot.json\")\n",
    "\n",
    "with open(path, \"r\", encoding=\"utf-8\") as fp: \n",
    "    docs = pd.DataFrame(json.loads(line) for line in tqdm(fp))"
   ]
  },
  {
   "cell_type": "code",
   "execution_count": 3,
   "id": "18b4e90b-6cc9-41f3-966c-494316ce3d4b",
   "metadata": {},
   "outputs": [
    {
     "name": "stdout",
     "output_type": "stream",
     "text": [
      "Counter({'hep-ph': 128484, 'hep-th': 102314, 'quant-ph': 102221, 'astro-ph': 94246, 'cs.CV': 81633, 'cs.LG': 72867, 'gr-qc': 60558, 'cond-mat.mes-hall': 60482, 'cond-mat.mtrl-sci': 56895, 'cond-mat.str-el': 45949, 'math.AP': 45244, 'astro-ph.GA': 43058, 'math.CO': 42004, 'astro-ph.SR': 40994, 'cs.CL': 40190, 'cond-mat.stat-mech': 39292, 'astro-ph.CO': 38030, 'math.PR': 36838, 'astro-ph.HE': 36665, 'math.AG': 33929, 'cs.IT': 33285, 'nucl-th': 32395, 'math-ph': 30693, 'cond-mat.supr-con': 30384, 'math.NT': 30311, 'math.OC': 28331, 'math.DG': 27471, 'physics.optics': 26949, 'cond-mat.soft': 26552, 'math.NA': 25910, 'hep-ex': 22250, 'math.DS': 21177, 'astro-ph.EP': 20736, 'cs.RO': 19594, 'cs.CR': 19266, 'cs.AI': 18871, 'math.FA': 18708, 'hep-lat': 17449, 'stat.ME': 17378, 'physics.flu-dyn': 17354, 'astro-ph.IM': 16781, 'stat.ML': 15435, 'math.GT': 14804, 'cs.NI': 14662, 'math.CA': 14420, 'cs.DS': 14338, 'math.RT': 14256, 'eess.SP': 13722, 'math.ST': 13682, 'physics.ins-det': 13492, 'math.GR': 13281, 'cond-mat.quant-gas': 13037, 'eess.IV': 12161, 'cs.DC': 11981, 'physics.atom-ph': 11784, 'physics.soc-ph': 11630, 'cond-mat': 11357, 'cs.SE': 11333, 'nucl-ex': 11274, 'cond-mat.dis-nn': 11174, 'eess.SY': 11174, 'physics.chem-ph': 10638, 'physics.plasm-ph': 10456, 'math.RA': 10173, 'math.CV': 9917, 'cs.LO': 9690, 'cs.SI': 9236, 'math.LO': 9016, 'cs.CY': 8947, 'physics.gen-ph': 8809, 'physics.app-ph': 8754, 'cs.HC': 8696, 'math.QA': 8639, 'cs.IR': 8590, 'stat.AP': 8462, 'math.AT': 8375, 'math.AC': 7896, 'math.OA': 7677, 'physics.comp-ph': 7298, 'q-bio.PE': 6849, 'cs.GT': 6678, 'cond-mat.other': 6667, 'nlin.CD': 6334, 'cs.NE': 6011, 'physics.bio-ph': 5910, 'physics.acc-ph': 5883, 'math.MG': 5774, 'q-bio.NC': 5529, 'cs.DB': 5487, 'cs.SD': 5397, 'eess.AS': 5250, 'cs.SY': 5130, 'nlin.SI': 4929, 'cs.CC': 4786, 'physics.class-ph': 4580, 'math.SG': 4545, 'cs.PL': 4479, 'math.SP': 4442, 'q-bio.QM': 4439, 'cs.DM': 4408, 'physics.med-ph': 4190, 'nlin.PS': 4156, 'cs.CG': 3943, 'math.CT': 3722, 'physics.geo-ph': 3551, 'math.GM': 3517, 'stat.CO': 3419, 'cs.CE': 3271, 'physics.ao-ph': 3229, 'physics.data-an': 3168, 'cs.DL': 3165, 'math.GN': 3041, 'physics.hist-ph': 2982, 'physics.ed-ph': 2880, 'math.HO': 2730, 'cs.FL': 2693, 'econ.GN': 2638, 'q-bio.BM': 2629, 'nlin.AO': 2575, 'cs.AR': 2531, 'math.KT': 2357, 'cs.MA': 2280, 'cs.GR': 2179, 'q-bio.MN': 2128, 'econ.EM': 2112, 'physics.space-ph': 2070, 'cs.OH': 2002, 'cs.MM': 1939, 'cs.ET': 1857, 'q-fin.ST': 1828, 'chao-dyn': 1770, 'q-bio.GN': 1667, 'q-fin.GN': 1470, 'q-fin.MF': 1390, 'econ.TH': 1377, 'physics.pop-ph': 1284, 'alg-geom': 1209, 'physics.atm-clus': 1194, 'q-alg': 1177, 'cs.SC': 1170, 'q-fin.PR': 1169, 'q-fin.RM': 1150, 'q-fin.CP': 1090, 'cs.NA': 1083, 'q-bio.TO': 1077, 'q-fin.PM': 1049, 'cs.PF': 1040, 'cs.MS': 980, 'q-fin.TR': 976, 'q-bio.CB': 911, 'cmp-lg': 894, 'solv-int': 844, 'q-bio.OT': 777, 'q-bio.SC': 651, 'stat.OT': 600, 'dg-ga': 562, 'nlin.CG': 492, 'patt-sol': 452, 'cs.OS': 442, 'q-fin.EC': 384, 'funct-an': 320, 'adap-org': 306, 'mtrl-th': 165, 'comp-gas': 140, 'chem-ph': 129, 'cs.GL': 106, 'supr-con': 69, 'atom-ph': 68, 'acc-phys': 46, 'plasm-ph': 28, 'ao-sci': 13, 'bayes-an': 11})\n"
     ]
    }
   ],
   "source": [
    "# Analysis which category has the highest\n",
    "categories = []\n",
    "for i in docs[\"categories\"]:\n",
    "    cat = i.split(\" \")[0]\n",
    "    categories.append(cat)\n",
    "counter = Counter(categories)\n",
    "print(counter) "
   ]
  },
  {
   "cell_type": "code",
   "execution_count": null,
   "id": "1d94513b-7775-40fd-b432-0214a35a78b1",
   "metadata": {},
   "outputs": [],
   "source": []
  },
  {
   "cell_type": "code",
   "execution_count": 6,
   "id": "c20d83a1-420b-4688-8923-cba40fe35463",
   "metadata": {},
   "outputs": [
    {
     "name": "stdout",
     "output_type": "stream",
     "text": [
      "{'math.KT': 2357, 'math.HO': 2730, 'math.GN': 3041, 'math.GM': 3517, 'math.CT': 3722, 'math.SP': 4442, 'math.SG': 4545, 'math.MG': 5774, 'math.OA': 7677, 'math.AC': 7896, 'math.AT': 8375, 'math.QA': 8639, 'math.LO': 9016, 'math.CV': 9917, 'math.RA': 10173, 'math.GR': 13281, 'math.ST': 13682, 'math.RT': 14256, 'math.CA': 14420, 'math.GT': 14804, 'math.FA': 18708, 'math.DS': 21177, 'math.NA': 25910, 'math.DG': 27471, 'math.OC': 28331, 'math.NT': 30311, 'math-ph': 30693, 'math.AG': 33929, 'math.PR': 36838, 'math.CO': 42004, 'math.AP': 45244}\n"
     ]
    }
   ],
   "source": [
    "math_counter = {}\n",
    "for cat, count in dict(counter).items():\n",
    "    if \"math\" in cat: \n",
    "        math_counter[cat]= count\n",
    "        \n",
    "sorted_dict = dict(sorted(math_counter.items(), key=operator.itemgetter(1)))\n",
    "print(sorted_dict)"
   ]
  },
  {
   "cell_type": "code",
   "execution_count": 7,
   "id": "60966ea3-f17c-4489-aaca-fcb76c847a81",
   "metadata": {
    "scrolled": true
   },
   "outputs": [
    {
     "data": {
      "text/plain": [
       "31"
      ]
     },
     "execution_count": 7,
     "metadata": {},
     "output_type": "execute_result"
    }
   ],
   "source": [
    "len(math_counter)"
   ]
  },
  {
   "cell_type": "code",
   "execution_count": 36,
   "id": "2a8a33e8-5a1a-4db4-b3bc-4e0890cd010c",
   "metadata": {},
   "outputs": [
    {
     "name": "stdout",
     "output_type": "stream",
     "text": [
      "{'econ.TH': 1377, 'econ.EM': 2112, 'econ.GN': 2638}\n"
     ]
    }
   ],
   "source": [
    "econ_counter = {}\n",
    "for cat, count in dict(counter).items():\n",
    "    if \"econ\" in cat: \n",
    "        econ_counter[cat]= count\n",
    "        \n",
    "sorted_dict = dict(sorted(econ_counter.items(), key=operator.itemgetter(1)))\n",
    "print(sorted_dict)"
   ]
  },
  {
   "cell_type": "code",
   "execution_count": 34,
   "id": "767c434d-ad33-4735-97cb-a892f16c15fc",
   "metadata": {},
   "outputs": [
    {
     "name": "stdout",
     "output_type": "stream",
     "text": [
      "{'eess.AS': 5250, 'eess.SY': 11174, 'eess.IV': 12161, 'eess.SP': 13722}\n"
     ]
    }
   ],
   "source": [
    "eess_counter = {}\n",
    "for cat, count in dict(counter).items():\n",
    "    if \"eess\" in cat: \n",
    "        eess_counter[cat]= count\n",
    "        \n",
    "sorted_dict = dict(sorted(eess_counter.items(), key=operator.itemgetter(1)))\n",
    "print(sorted_dict)"
   ]
  },
  {
   "cell_type": "code",
   "execution_count": 35,
   "id": "86b27ad9-4d68-4c70-a784-f4d27aa96402",
   "metadata": {},
   "outputs": [
    {
     "name": "stdout",
     "output_type": "stream",
     "text": [
      "{'nlin.CG': 492, 'physics.atm-clus': 1194, 'physics.pop-ph': 1284, 'physics.space-ph': 2070, 'nlin.AO': 2575, 'physics.ed-ph': 2880, 'physics.hist-ph': 2982, 'physics.data-an': 3168, 'physics.ao-ph': 3229, 'physics.geo-ph': 3551, 'nlin.PS': 4156, 'physics.med-ph': 4190, 'physics.class-ph': 4580, 'nlin.SI': 4929, 'eess.AS': 5250, 'physics.acc-ph': 5883, 'physics.bio-ph': 5910, 'nlin.CD': 6334, 'cond-mat.other': 6667, 'physics.comp-ph': 7298, 'physics.app-ph': 8754, 'physics.gen-ph': 8809, 'physics.plasm-ph': 10456, 'physics.chem-ph': 10638, 'cond-mat.dis-nn': 11174, 'eess.SY': 11174, 'nucl-ex': 11274, 'cond-mat': 11357, 'physics.soc-ph': 11630, 'physics.atom-ph': 11784, 'eess.IV': 12161, 'cond-mat.quant-gas': 13037, 'physics.ins-det': 13492, 'eess.SP': 13722, 'astro-ph.IM': 16781, 'physics.flu-dyn': 17354, 'hep-lat': 17449, 'astro-ph.EP': 20736, 'hep-ex': 22250, 'cond-mat.soft': 26552, 'physics.optics': 26949, 'cond-mat.supr-con': 30384, 'nucl-th': 32395, 'astro-ph.HE': 36665, 'astro-ph.CO': 38030, 'cond-mat.stat-mech': 39292, 'astro-ph.SR': 40994, 'astro-ph.GA': 43058, 'cond-mat.str-el': 45949, 'cond-mat.mtrl-sci': 56895, 'cond-mat.mes-hall': 60482, 'astro-ph': 94246, 'quant-ph': 102221, 'hep-th': 102314, 'hep-ph': 128484}\n"
     ]
    }
   ],
   "source": [
    "physics_counter = {}\n",
    "for cat, count in dict(counter).items():\n",
    "    if \"eess\" in cat or \"astro\" in cat  or \"cond-mat\" in cat  or \"hep-\" in cat or \"nlin.\" in cat or \"nucl-\" in cat or \"physics.\" in cat or \"quant-\" in cat: \n",
    "        physics_counter[cat]= count\n",
    "        \n",
    "sorted_dict = dict(sorted(physics_counter.items(), key=operator.itemgetter(1)))\n",
    "print(sorted_dict)"
   ]
  },
  {
   "cell_type": "code",
   "execution_count": 37,
   "id": "d353b33e-c8c8-4565-8424-a0677964bf7a",
   "metadata": {},
   "outputs": [
    {
     "name": "stdout",
     "output_type": "stream",
     "text": [
      "{'q-bio.SC': 651, 'q-bio.OT': 777, 'q-bio.CB': 911, 'q-bio.TO': 1077, 'q-bio.GN': 1667, 'q-bio.MN': 2128, 'q-bio.BM': 2629, 'q-bio.QM': 4439, 'q-bio.NC': 5529, 'q-bio.PE': 6849}\n"
     ]
    }
   ],
   "source": [
    "bio_counter = {}\n",
    "for cat, count in dict(counter).items():\n",
    "    if \"q-bio.\" in cat:\n",
    "        bio_counter[cat]= count\n",
    "        \n",
    "sorted_dict = dict(sorted(bio_counter.items(), key=operator.itemgetter(1)))\n",
    "print(sorted_dict)"
   ]
  },
  {
   "cell_type": "code",
   "execution_count": 38,
   "id": "4b59dc83-df71-4eda-9d27-c2490564b0ec",
   "metadata": {},
   "outputs": [
    {
     "name": "stdout",
     "output_type": "stream",
     "text": [
      "{'q-fin.EC': 384, 'q-fin.TR': 976, 'q-fin.PM': 1049, 'q-fin.CP': 1090, 'q-fin.RM': 1150, 'q-fin.PR': 1169, 'q-fin.MF': 1390, 'q-fin.GN': 1470, 'q-fin.ST': 1828}\n"
     ]
    }
   ],
   "source": [
    "qfin_counter = {}\n",
    "for cat, count in dict(counter).items():\n",
    "    if \"q-fin\" in cat:\n",
    "        qfin_counter[cat]= count\n",
    "        \n",
    "sorted_dict = dict(sorted(qfin_counter.items(), key=operator.itemgetter(1)))\n",
    "print(sorted_dict)"
   ]
  },
  {
   "cell_type": "code",
   "execution_count": 39,
   "id": "27287739-818b-44f2-ac61-d9196f144afb",
   "metadata": {},
   "outputs": [
    {
     "name": "stdout",
     "output_type": "stream",
     "text": [
      "{'stat.OT': 600, 'stat.CO': 3419, 'stat.AP': 8462, 'stat.ML': 15435, 'stat.ME': 17378}\n"
     ]
    }
   ],
   "source": [
    "stat_counter = {}\n",
    "for cat, count in dict(counter).items():\n",
    "    if \"stat.\" in cat:\n",
    "        stat_counter[cat]= count\n",
    "        \n",
    "sorted_dict = dict(sorted(stat_counter.items(), key=operator.itemgetter(1)))\n",
    "print(sorted_dict)\n"
   ]
  },
  {
   "cell_type": "code",
   "execution_count": null,
   "id": "d0550468-7ee6-4f91-b391-8d470ffe61cc",
   "metadata": {},
   "outputs": [],
   "source": [
    "{\n",
    " 'math.AP': 45244, #(Analysis of PDEs) Math\n",
    " 'econ.GN': 2638, #(General Economics) Economics\n",
    " 'eess.SP': 13722, # (Signal Processing) Electrical Engineering and Systems Science\n",
    " 'q-bio.PE': 6849, # (Populations and Evolution) Quantitative Biology\n",
    " 'q-fin.ST': 1828, #(Statistical Finance) Quantitative Finance\n",
    " 'stat.ME': 17378 # (Methodology) Statistics\n",
    " 'hep-ph': 128484 # High Energy Physics - Phenomenology\n",
    "}"
   ]
  },
  {
   "cell_type": "code",
   "execution_count": 42,
   "id": "1780736b-b6d5-4190-a29e-f025721ce630",
   "metadata": {},
   "outputs": [
    {
     "name": "stdout",
     "output_type": "stream",
     "text": [
      "{'cs.GL': 106, 'cs.OS': 442, 'cs.MS': 980, 'cs.PF': 1040, 'cs.NA': 1083, 'cs.SC': 1170, 'physics.atm-clus': 1194, 'physics.pop-ph': 1284, 'cs.ET': 1857, 'cs.MM': 1939, 'cs.OH': 2002, 'physics.space-ph': 2070, 'cs.GR': 2179, 'cs.MA': 2280, 'cs.AR': 2531, 'cs.FL': 2693, 'physics.ed-ph': 2880, 'physics.hist-ph': 2982, 'cs.DL': 3165, 'physics.data-an': 3168, 'physics.ao-ph': 3229, 'cs.CE': 3271, 'physics.geo-ph': 3551, 'cs.CG': 3943, 'physics.med-ph': 4190, 'cs.DM': 4408, 'cs.PL': 4479, 'physics.class-ph': 4580, 'cs.CC': 4786, 'cs.SY': 5130, 'cs.SD': 5397, 'cs.DB': 5487, 'physics.acc-ph': 5883, 'physics.bio-ph': 5910, 'cs.NE': 6011, 'cs.GT': 6678, 'physics.comp-ph': 7298, 'cs.IR': 8590, 'cs.HC': 8696, 'physics.app-ph': 8754, 'physics.gen-ph': 8809, 'cs.CY': 8947, 'cs.SI': 9236, 'cs.LO': 9690, 'physics.plasm-ph': 10456, 'physics.chem-ph': 10638, 'cs.SE': 11333, 'physics.soc-ph': 11630, 'physics.atom-ph': 11784, 'cs.DC': 11981, 'physics.ins-det': 13492, 'cs.DS': 14338, 'cs.NI': 14662, 'physics.flu-dyn': 17354, 'cs.AI': 18871, 'cs.CR': 19266, 'cs.RO': 19594, 'physics.optics': 26949, 'cs.IT': 33285, 'cs.CL': 40190, 'cs.LG': 72867, 'cs.CV': 81633}\n"
     ]
    }
   ],
   "source": [
    "cs_counter = {}\n",
    "for cat, count in dict(counter).items():\n",
    "    if \"cs.\" in cat: \n",
    "        cs_counter[cat]= count\n",
    "        \n",
    "sorted_dict = dict(sorted(cs_counter.items(), key=operator.itemgetter(1)))\n",
    "print(sorted_dict)"
   ]
  },
  {
   "cell_type": "code",
   "execution_count": 13,
   "id": "aafc165b-2608-4429-9262-59ebd54e851a",
   "metadata": {},
   "outputs": [],
   "source": [
    "non_cs_cats = [\n",
    "    'math.AP',\n",
    "    'hep-ph',\n",
    "    'econ.GN',  # (General Economics) Economics\n",
    "    'eess.SP',  # (Signal Processing) Electrical Engineering and Systems Science\n",
    "    'q-bio.PE',  # (Populations and Evolution) Quantitative Biology\n",
    "    'q-fin.ST',  # (Statistical Finance) Quantitative Finance\n",
    "    'stat.ME' # (Methodology) Statistics\n",
    " ]\n",
    "\n",
    "cs_non_ai_cats =[\n",
    "\"cs.CR\",# (Cryptography and Security)\n",
    "\"cs.IT\",# (Information Theory)\n",
    "\"cs.NI\",# (Networking and Internet Architecture)\n",
    "\"cs.DS\",# (Data Structures and Algorithms)\n",
    "]\n",
    "\n",
    "cs_ai =[\n",
    "\"cs.CL\",# (Cryptography and Security)\n",
    "\"cs.AI\",# (Information Theory)\n",
    "\"cs.LG\",# (Networking and Internet Architecture)\n",
    "\"cs.CV\",# (Data Structures and Algorithms)\n",
    "]\n",
    "\n",
    "all_cats = non_cs_cats + cs_non_ai_cats + cs_ai \n",
    "\n",
    "# Sort out the paper id by year and cat\n",
    "results = {}\n",
    "\n",
    "for cat in all_cats:\n",
    "    results[cat] = {year:[] for year in range(2013, 2023)}"
   ]
  },
  {
   "cell_type": "code",
   "execution_count": 14,
   "id": "65fd1c75-996e-4541-ac3f-cbd80300619b",
   "metadata": {},
   "outputs": [],
   "source": [
    "for _, doc in docs.iterrows():\n",
    "    cat = doc[\"categories\"].split(\" \")[0] # get the main category\n",
    "    year = int(re.findall(r'.*([1-3][0-9]{3})', doc[\"versions\"][0][\"created\"])[0])\n",
    "    if cat in all_cats and year in range(2013, 2023):\n",
    "        results[cat][year].append(doc[\"id\"])"
   ]
  },
  {
   "cell_type": "code",
   "execution_count": 5,
   "id": "eddfcc49-ac2b-4795-b4d8-7637c0dee48f",
   "metadata": {},
   "outputs": [],
   "source": [
    "with open(os.path.join(os.path.dirname(os.getcwd()), f\"data/categorization/cs_ai_csCL_csRO.json\"), \"w\") as fp:\n",
    "    content = json.dump(results, fp)"
   ]
  },
  {
   "cell_type": "code",
   "execution_count": 15,
   "id": "292bf466-41ca-4c26-93c4-b4bfd14f0e6f",
   "metadata": {},
   "outputs": [],
   "source": [
    "cat_num = {}\n",
    "\n",
    "for cat, data in results.items():\n",
    "    count = []\n",
    "    for year, values in data.items():\n",
    "        count.append(len(values))\n",
    "    cat_num[cat] = count"
   ]
  },
  {
   "cell_type": "code",
   "execution_count": 16,
   "id": "032c2d69-9fc1-4c54-8e4d-c0343f92bbd8",
   "metadata": {},
   "outputs": [
    {
     "data": {
      "text/plain": [
       "{'math.AP': [2211, 2476, 2835, 2820, 3202, 3476, 3670, 4006, 3882, 3952],\n",
       " 'hep-ph': [4642, 4623, 4936, 4751, 4516, 4571, 4574, 4598, 4979, 5174],\n",
       " 'econ.GN': [0, 2, 2, 2, 4, 118, 241, 450, 692, 601],\n",
       " 'eess.SP': [2, 1, 1, 1, 331, 1662, 2242, 2964, 2141, 2339],\n",
       " 'q-bio.PE': [475, 402, 389, 376, 386, 386, 390, 999, 542, 426],\n",
       " 'q-fin.ST': [91, 98, 91, 99, 85, 112, 137, 191, 179, 155],\n",
       " 'stat.ME': [637, 765, 919, 1065, 1319, 1313, 1356, 1962, 2160, 2279],\n",
       " 'cs.CR': [460, 540, 597, 715, 1055, 1530, 1937, 2393, 2671, 2843],\n",
       " 'cs.IT': [1963, 2013, 2418, 2598, 2789, 2407, 2250, 2355, 2631, 2541],\n",
       " 'cs.NI': [778, 838, 766, 994, 1004, 1245, 1295, 1337, 1318, 1313],\n",
       " 'cs.DS': [704, 784, 873, 978, 1053, 1187, 1302, 1441, 1193, 1237],\n",
       " 'cs.CL': [219, 396, 587, 1306, 1922, 2974, 4170, 5582, 6578, 7133],\n",
       " 'cs.AI': [1383, 663, 587, 875, 1209, 1442, 1210, 1916, 2130, 2114],\n",
       " 'cs.LG': [696, 739, 1122, 1523, 2340, 4736, 8841, 11097, 13087, 13754],\n",
       " 'cs.CV': [662, 1096, 1859, 3084, 4914, 7261, 8489, 11000, 12695, 14625]}"
      ]
     },
     "execution_count": 16,
     "metadata": {},
     "output_type": "execute_result"
    }
   ],
   "source": [
    "cat_num"
   ]
  },
  {
   "cell_type": "code",
   "execution_count": 18,
   "id": "42154e53-a32e-4fa7-9ac3-e2c81c78f8f0",
   "metadata": {},
   "outputs": [
    {
     "name": "stdout",
     "output_type": "stream",
     "text": [
      "math.AP 32530\n",
      "hep-ph 47364\n",
      "econ.GN 2112\n",
      "eess.SP 11684\n",
      "q-bio.PE 4771\n",
      "q-fin.ST 1238\n",
      "stat.ME 13775\n",
      "cs.CR 14741\n",
      "cs.IT 23965\n",
      "cs.NI 10888\n",
      "cs.DS 10752\n",
      "cs.CL 30867\n",
      "cs.AI 13529\n",
      "cs.LG 57935\n",
      "cs.CV 65685\n"
     ]
    }
   ],
   "source": [
    "for cat, num in cat_num.items():\n",
    "    print(cat, sum(num))"
   ]
  },
  {
   "cell_type": "code",
   "execution_count": 52,
   "id": "b6a316da-dda1-437f-a755-ee10d44e40ab",
   "metadata": {},
   "outputs": [
    {
     "data": {
      "text/plain": [
       "{'math.AP': [4422, 4952, 5670, 5640, 6404, 6952, 7340, 8012, 7764, 7902],\n",
       " 'econ.GN': [0, 4, 4, 4, 8, 236, 482, 900, 1384, 1192],\n",
       " 'eess.SP': [4, 2, 2, 2, 662, 3324, 4484, 5928, 4282, 4667],\n",
       " 'q-bio.PE': [950, 804, 778, 752, 772, 772, 780, 1998, 1084, 851],\n",
       " 'q-fin.ST': [182, 196, 182, 198, 170, 224, 274, 382, 358, 309],\n",
       " 'stat.ME': [1274, 1530, 1838, 2130, 2638, 2626, 2712, 3924, 4320, 4557],\n",
       " 'cs.CR': [920, 1080, 1194, 1430, 2110, 3060, 3874, 4786, 5342, 5672],\n",
       " 'cs.IT': [3926, 4026, 4836, 5196, 5578, 4814, 4500, 4710, 5262, 5075],\n",
       " 'cs.NI': [1556, 1676, 1532, 1988, 2008, 2490, 2590, 2674, 2636, 2613],\n",
       " 'cs.DS': [1408, 1568, 1746, 1956, 2106, 2374, 2604, 2882, 2386, 2474],\n",
       " 'cs.CL': [438, 792, 1174, 2612, 3844, 5948, 8340, 11164, 13156, 14259],\n",
       " 'cs.AI': [2766, 1326, 1174, 1750, 2418, 2884, 2420, 3832, 4260, 4225],\n",
       " 'cs.LG': [1392, 1478, 2244, 3046, 4680, 9472, 17682, 22194, 26174, 27495],\n",
       " 'cs.CV': [1324, 2192, 3718, 6168, 9828, 14522, 16978, 22000, 25390, 29222],\n",
       " 'hep-ph': [13926,\n",
       "  13869,\n",
       "  14808,\n",
       "  14253,\n",
       "  14253,\n",
       "  13713,\n",
       "  13713,\n",
       "  13794,\n",
       "  14937,\n",
       "  14937]}"
      ]
     },
     "execution_count": 52,
     "metadata": {},
     "output_type": "execute_result"
    }
   ],
   "source": [
    "cat_num"
   ]
  },
  {
   "cell_type": "code",
   "execution_count": 41,
   "id": "0a861d1c-9eca-4aeb-8d2c-bd3c469dbad2",
   "metadata": {},
   "outputs": [
    {
     "data": {
      "image/png": "[encoded data removed]",
      "text/plain": [
       "<Figure size 450x450 with 1 Axes>"
      ]
     },
     "metadata": {},
     "output_type": "display_data"
    }
   ],
   "source": [
    "# create stacked bar chart for monthly temperatures\n",
    "df = pd.DataFrame(cat_num)\n",
    "\n",
    "fig, ax = plt.subplots()\n",
    "\n",
    "colors = sns.color_palette(\"Paired\",6)+sns.color_palette(\"Set2\",4)+sns.color_palette(\"husl\",4)\n",
    "df.plot(kind='barh', stacked=True,color=colors, figsize=(4.5, 4.5),ax=ax)\n",
    "\n",
    "# labels for x & y axis\n",
    "plt.legend(ncol=3, prop={'size': 6})\n",
    "ax.grid(True, which='major', axis='x', color='grey', zorder=0, linewidth = \"0.2\")\n",
    "ax.set_yticklabels([i for i in range(2013, 2023)])\n",
    "plt.xlabel('Paper count')\n",
    "plt.ylabel('Year')\n",
    "\n",
    "# title of plot\n",
    "plt.title('Paper count by category')\n",
    "fig.savefig(\"paper_num_by_year.svg\", format=\"svg\")"
   ]
  },
  {
   "cell_type": "code",
   "execution_count": 19,
   "id": "f8c801cd-d8d4-4a54-a290-a7562f1d7231",
   "metadata": {},
   "outputs": [],
   "source": [
    "# Numbers of pairs of bars you want\n",
    "N = 15\n",
    "\n",
    "# Specify the values of blue bars (height)\n",
    "blue_bar, orange_bar = [], []\n",
    "for k,v in cat_num.items():\n",
    "    blue_bar.append(v[0])\n",
    "\n",
    "# Specify the values of orange bars (height)\n",
    "for k,v in cat_num.items():\n",
    "    orange_bar.append(v[-1])"
   ]
  },
  {
   "cell_type": "code",
   "execution_count": 20,
   "id": "943e91cc-91b0-4305-a82c-44371c1b7491",
   "metadata": {},
   "outputs": [
    {
     "data": {
      "image/png": "[encoded data removed]",
      "text/plain": [
       "<Figure size 450x450 with 1 Axes>"
      ]
     },
     "metadata": {},
     "output_type": "display_data"
    }
   ],
   "source": [
    "# Position of bars on x-axis\n",
    "ind = np.arange(N)\n",
    "\n",
    "# Figure size\n",
    "plt.figure(figsize=(4.5, 4.5))\n",
    "\n",
    "# Width of a bar \n",
    "width = 0.3     \n",
    "\n",
    "# Plotting\n",
    "plt.bar(ind, blue_bar , width, label='2013', zorder=2)\n",
    "plt.bar(ind + width, orange_bar, width, label='2022', zorder=2)\n",
    "\n",
    "plt.xlabel('Category')\n",
    "plt.ylabel('Paper count')\n",
    "\n",
    "# xticks()\n",
    "# First argument - A list of positions at which ticks should be placed\n",
    "# Second argument -  A list of labels to place at the given locations\n",
    "plt.xticks(np.arange(0, 15, 1.0),labels=list(cat_num.keys()),rotation=90)\n",
    "\n",
    "# Finding the best position for legends and putting it\n",
    "plt.grid(True, color = \"grey\", linewidth = \"0.2\", zorder=1)\n",
    "plt.legend(ncol=3, prop={'size': 6})\n",
    "plt.savefig(\"paper_num_by_year_change.svg\",format=\"svg\")\n",
    "plt.show() "
   ]
  }
 ],
 "metadata": {
  "kernelspec": {
   "display_name": "Python 3 (ipykernel)",
   "language": "python",
   "name": "python3"
  },
  "language_info": {
   "codemirror_mode": {
    "name": "ipython",
    "version": 3
   },
   "file_extension": ".py",
   "mimetype": "text/x-python",
   "name": "python",
   "nbconvert_exporter": "python",
   "pygments_lexer": "ipython3",
   "version": "3.10.12"
  }
 },
 "nbformat": 4,
 "nbformat_minor": 5
}
