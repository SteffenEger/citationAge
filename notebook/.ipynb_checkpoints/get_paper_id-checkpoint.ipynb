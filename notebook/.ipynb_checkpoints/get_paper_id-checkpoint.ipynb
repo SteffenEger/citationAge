{
 "cells": [
  {
   "cell_type": "code",
   "execution_count": 27,
   "id": "68568538-1455-4f67-a538-808e06f158fe",
   "metadata": {},
   "outputs": [],
   "source": [
    "import os\n",
    "import json\n",
    "import operator\n",
    "import pandas as pd\n",
    "from tqdm import tqdm\n",
    "from collections import Counter"
   ]
  },
  {
   "cell_type": "code",
   "execution_count": 16,
   "id": "dcca17af-1386-468d-8fd5-4f96d2c72f31",
   "metadata": {},
   "outputs": [
    {
     "name": "stderr",
     "output_type": "stream",
     "text": [
      "2354025it [01:28, 26625.52it/s]\n"
     ]
    }
   ],
   "source": [
    "# read json file \n",
    "path = os.path.join(os.path.dirname(os.getcwd()), \"data/categorization/arxiv-metadata-oai-snapshot.json\")\n",
    "\n",
    "with open(path, \"r\", encoding=\"utf-8\") as fp: \n",
    "    docs = pd.DataFrame(json.loads(line) for line in tqdm(fp))"
   ]
  },
  {
   "cell_type": "code",
   "execution_count": 41,
   "id": "c20d83a1-420b-4688-8923-cba40fe35463",
   "metadata": {},
   "outputs": [
    {
     "name": "stdout",
     "output_type": "stream",
     "text": [
      "{'math.KT': 2357, 'math.HO': 2730, 'math.GN': 3041, 'math.GM': 3517, 'math.CT': 3722, 'math.SP': 4442, 'math.SG': 4545, 'math.MG': 5774, 'math.OA': 7677, 'math.AC': 7896, 'math.AT': 8375, 'math.QA': 8639, 'math.LO': 9016, 'math.CV': 9917, 'math.RA': 10173, 'math.GR': 13281, 'math.ST': 13682, 'math.RT': 14256, 'math.CA': 14420, 'math.GT': 14804, 'math.FA': 18708, 'math.DS': 21177, 'math.NA': 25910, 'math.DG': 27471, 'math.OC': 28331, 'math.NT': 30311, 'math-ph': 30693, 'math.AG': 33929, 'math.PR': 36838, 'math.CO': 42004, 'math.AP': 45244}\n"
     ]
    }
   ],
   "source": [
    "math_ids = {}\n",
    "for cat, count in dict(counter).items():\n",
    "    if \"math\" in cat: \n",
    "        math_counter[cat]= count\n",
    "        \n",
    "sorted_dict = dict(sorted(math_counter.items(), key=operator.itemgetter(1)))\n",
    "print(sorted_dict)"
   ]
  },
  {
   "cell_type": "code",
   "execution_count": 36,
   "id": "2a8a33e8-5a1a-4db4-b3bc-4e0890cd010c",
   "metadata": {},
   "outputs": [
    {
     "name": "stdout",
     "output_type": "stream",
     "text": [
      "{'econ.TH': 1377, 'econ.EM': 2112, 'econ.GN': 2638}\n"
     ]
    }
   ],
   "source": [
    "econ_counter = {}\n",
    "for cat, count in dict(counter).items():\n",
    "    if \"econ\" in cat: \n",
    "        econ_counter[cat]= count\n",
    "        \n",
    "sorted_dict = dict(sorted(econ_counter.items(), key=operator.itemgetter(1)))\n",
    "print(sorted_dict)"
   ]
  },
  {
   "cell_type": "code",
   "execution_count": 34,
   "id": "767c434d-ad33-4735-97cb-a892f16c15fc",
   "metadata": {},
   "outputs": [
    {
     "name": "stdout",
     "output_type": "stream",
     "text": [
      "{'eess.AS': 5250, 'eess.SY': 11174, 'eess.IV': 12161, 'eess.SP': 13722}\n"
     ]
    }
   ],
   "source": [
    "eess_counter = {}\n",
    "for cat, count in dict(counter).items():\n",
    "    if \"eess\" in cat: \n",
    "        eess_counter[cat]= count\n",
    "        \n",
    "sorted_dict = dict(sorted(eess_counter.items(), key=operator.itemgetter(1)))\n",
    "print(sorted_dict)"
   ]
  },
  {
   "cell_type": "code",
   "execution_count": 35,
   "id": "86b27ad9-4d68-4c70-a784-f4d27aa96402",
   "metadata": {},
   "outputs": [
    {
     "name": "stdout",
     "output_type": "stream",
     "text": [
      "{'nlin.CG': 492, 'physics.atm-clus': 1194, 'physics.pop-ph': 1284, 'physics.space-ph': 2070, 'nlin.AO': 2575, 'physics.ed-ph': 2880, 'physics.hist-ph': 2982, 'physics.data-an': 3168, 'physics.ao-ph': 3229, 'physics.geo-ph': 3551, 'nlin.PS': 4156, 'physics.med-ph': 4190, 'physics.class-ph': 4580, 'nlin.SI': 4929, 'eess.AS': 5250, 'physics.acc-ph': 5883, 'physics.bio-ph': 5910, 'nlin.CD': 6334, 'cond-mat.other': 6667, 'physics.comp-ph': 7298, 'physics.app-ph': 8754, 'physics.gen-ph': 8809, 'physics.plasm-ph': 10456, 'physics.chem-ph': 10638, 'cond-mat.dis-nn': 11174, 'eess.SY': 11174, 'nucl-ex': 11274, 'cond-mat': 11357, 'physics.soc-ph': 11630, 'physics.atom-ph': 11784, 'eess.IV': 12161, 'cond-mat.quant-gas': 13037, 'physics.ins-det': 13492, 'eess.SP': 13722, 'astro-ph.IM': 16781, 'physics.flu-dyn': 17354, 'hep-lat': 17449, 'astro-ph.EP': 20736, 'hep-ex': 22250, 'cond-mat.soft': 26552, 'physics.optics': 26949, 'cond-mat.supr-con': 30384, 'nucl-th': 32395, 'astro-ph.HE': 36665, 'astro-ph.CO': 38030, 'cond-mat.stat-mech': 39292, 'astro-ph.SR': 40994, 'astro-ph.GA': 43058, 'cond-mat.str-el': 45949, 'cond-mat.mtrl-sci': 56895, 'cond-mat.mes-hall': 60482, 'astro-ph': 94246, 'quant-ph': 102221, 'hep-th': 102314, 'hep-ph': 128484}\n"
     ]
    }
   ],
   "source": [
    "physics_counter = {}\n",
    "for cat, count in dict(counter).items():\n",
    "    if \"eess\" in cat or \"astro\" in cat  or \"cond-mat\" in cat  or \"hep-\" in cat or \"nlin.\" in cat or \"nucl-\" in cat or \"physics.\" in cat or \"quant-\" in cat: \n",
    "        physics_counter[cat]= count\n",
    "        \n",
    "sorted_dict = dict(sorted(physics_counter.items(), key=operator.itemgetter(1)))\n",
    "print(sorted_dict)"
   ]
  },
  {
   "cell_type": "code",
   "execution_count": 37,
   "id": "d353b33e-c8c8-4565-8424-a0677964bf7a",
   "metadata": {},
   "outputs": [
    {
     "name": "stdout",
     "output_type": "stream",
     "text": [
      "{'q-bio.SC': 651, 'q-bio.OT': 777, 'q-bio.CB': 911, 'q-bio.TO': 1077, 'q-bio.GN': 1667, 'q-bio.MN': 2128, 'q-bio.BM': 2629, 'q-bio.QM': 4439, 'q-bio.NC': 5529, 'q-bio.PE': 6849}\n"
     ]
    }
   ],
   "source": [
    "bio_counter = {}\n",
    "for cat, count in dict(counter).items():\n",
    "    if \"q-bio.\" in cat:\n",
    "        bio_counter[cat]= count\n",
    "        \n",
    "sorted_dict = dict(sorted(bio_counter.items(), key=operator.itemgetter(1)))\n",
    "print(sorted_dict)"
   ]
  },
  {
   "cell_type": "code",
   "execution_count": 38,
   "id": "4b59dc83-df71-4eda-9d27-c2490564b0ec",
   "metadata": {},
   "outputs": [
    {
     "name": "stdout",
     "output_type": "stream",
     "text": [
      "{'q-fin.EC': 384, 'q-fin.TR': 976, 'q-fin.PM': 1049, 'q-fin.CP': 1090, 'q-fin.RM': 1150, 'q-fin.PR': 1169, 'q-fin.MF': 1390, 'q-fin.GN': 1470, 'q-fin.ST': 1828}\n"
     ]
    }
   ],
   "source": [
    "qfin_counter = {}\n",
    "for cat, count in dict(counter).items():\n",
    "    if \"q-fin\" in cat:\n",
    "        qfin_counter[cat]= count\n",
    "        \n",
    "sorted_dict = dict(sorted(qfin_counter.items(), key=operator.itemgetter(1)))\n",
    "print(sorted_dict)"
   ]
  },
  {
   "cell_type": "code",
   "execution_count": 39,
   "id": "27287739-818b-44f2-ac61-d9196f144afb",
   "metadata": {},
   "outputs": [
    {
     "name": "stdout",
     "output_type": "stream",
     "text": [
      "{'stat.OT': 600, 'stat.CO': 3419, 'stat.AP': 8462, 'stat.ML': 15435, 'stat.ME': 17378}\n"
     ]
    }
   ],
   "source": [
    "stat_counter = {}\n",
    "for cat, count in dict(counter).items():\n",
    "    if \"stat.\" in cat:\n",
    "        stat_counter[cat]= count\n",
    "        \n",
    "sorted_dict = dict(sorted(stat_counter.items(), key=operator.itemgetter(1)))\n",
    "print(sorted_dict)\n"
   ]
  },
  {
   "cell_type": "code",
   "execution_count": null,
   "id": "d0550468-7ee6-4f91-b391-8d470ffe61cc",
   "metadata": {},
   "outputs": [],
   "source": [
    "{\n",
    " 'math.AP': 45244, #(Analysis of PDEs) Math\n",
    " 'econ.GN': 2638, #(General Economics) Economics\n",
    " 'eess.SP': 13722, # (Signal Processing) Electrical Engineering and Systems Science\n",
    " 'q-bio.PE': 6849, # (Populations and Evolution) Quantitative Biology\n",
    " 'q-fin.ST': 1828, #(Statistical Finance) Quantitative Finance\n",
    " 'stat.ME': 17378 # (Methodology) Statistics\n",
    " 'hep-ph': 128484 # High Energy Physics - Phenomenology\n",
    "}"
   ]
  },
  {
   "cell_type": "code",
   "execution_count": 42,
   "id": "1780736b-b6d5-4190-a29e-f025721ce630",
   "metadata": {},
   "outputs": [
    {
     "name": "stdout",
     "output_type": "stream",
     "text": [
      "{'cs.GL': 106, 'cs.OS': 442, 'cs.MS': 980, 'cs.PF': 1040, 'cs.NA': 1083, 'cs.SC': 1170, 'physics.atm-clus': 1194, 'physics.pop-ph': 1284, 'cs.ET': 1857, 'cs.MM': 1939, 'cs.OH': 2002, 'physics.space-ph': 2070, 'cs.GR': 2179, 'cs.MA': 2280, 'cs.AR': 2531, 'cs.FL': 2693, 'physics.ed-ph': 2880, 'physics.hist-ph': 2982, 'cs.DL': 3165, 'physics.data-an': 3168, 'physics.ao-ph': 3229, 'cs.CE': 3271, 'physics.geo-ph': 3551, 'cs.CG': 3943, 'physics.med-ph': 4190, 'cs.DM': 4408, 'cs.PL': 4479, 'physics.class-ph': 4580, 'cs.CC': 4786, 'cs.SY': 5130, 'cs.SD': 5397, 'cs.DB': 5487, 'physics.acc-ph': 5883, 'physics.bio-ph': 5910, 'cs.NE': 6011, 'cs.GT': 6678, 'physics.comp-ph': 7298, 'cs.IR': 8590, 'cs.HC': 8696, 'physics.app-ph': 8754, 'physics.gen-ph': 8809, 'cs.CY': 8947, 'cs.SI': 9236, 'cs.LO': 9690, 'physics.plasm-ph': 10456, 'physics.chem-ph': 10638, 'cs.SE': 11333, 'physics.soc-ph': 11630, 'physics.atom-ph': 11784, 'cs.DC': 11981, 'physics.ins-det': 13492, 'cs.DS': 14338, 'cs.NI': 14662, 'physics.flu-dyn': 17354, 'cs.AI': 18871, 'cs.CR': 19266, 'cs.RO': 19594, 'physics.optics': 26949, 'cs.IT': 33285, 'cs.CL': 40190, 'cs.LG': 72867, 'cs.CV': 81633}\n"
     ]
    }
   ],
   "source": [
    "cs_counter = {}\n",
    "for cat, count in dict(counter).items():\n",
    "    if \"cs.\" in cat: \n",
    "        cs_counter[cat]= count\n",
    "        \n",
    "sorted_dict = dict(sorted(cs_counter.items(), key=operator.itemgetter(1)))\n",
    "print(sorted_dict)"
   ]
  },
  {
   "cell_type": "code",
   "execution_count": null,
   "id": "aafc165b-2608-4429-9262-59ebd54e851a",
   "metadata": {},
   "outputs": [],
   "source": []
  }
 ],
 "metadata": {
  "kernelspec": {
   "display_name": "Python 3 (ipykernel)",
   "language": "python",
   "name": "python3"
  },
  "language_info": {
   "codemirror_mode": {
    "name": "ipython",
    "version": 3
   },
   "file_extension": ".py",
   "mimetype": "text/x-python",
   "name": "python",
   "nbconvert_exporter": "python",
   "pygments_lexer": "ipython3",
   "version": "3.10.12"
  }
 },
 "nbformat": 4,
 "nbformat_minor": 5
}
