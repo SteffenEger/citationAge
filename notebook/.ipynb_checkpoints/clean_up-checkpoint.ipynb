{
 "cells": [
  {
   "cell_type": "code",
   "execution_count": 2,
   "id": "caef566e-2379-4603-8d8e-2a91f7bf7eda",
   "metadata": {},
   "outputs": [],
   "source": [
    "import os\n",
    "import json\n",
    "import operator\n",
    "import re\n",
    "import pandas as pd\n",
    "from tqdm import tqdm\n",
    "from collections import Counter\n",
    "import matplotlib.pyplot as plt\n",
    "import seaborn as sns\n",
    "import matplotlib.colors as cm\n",
    "import numpy as np"
   ]
  },
  {
   "cell_type": "code",
   "execution_count": 3,
   "id": "7b766c19-b870-494c-8206-ef772739c238",
   "metadata": {},
   "outputs": [],
   "source": [
    "non_cs_cats = [\n",
    "    'math.AP',\n",
    "    'hep-ph',\n",
    "    'econ.GN',  # (General Economics) Economics\n",
    "    'eess.SP',  # (Signal Processing) Electrical Engineering and Systems Science\n",
    "    'q-bio.PE',  # (Populations and Evolution) Quantitative Biology\n",
    "    'q-fin.ST',  # (Statistical Finance) Quantitative Finance\n",
    "    'stat.ME' # (Methodology) Statistics\n",
    " ]\n",
    "\n",
    "cs_non_ai_cats =[\n",
    "\"cs.CR\",# (Cryptography and Security)\n",
    "\"cs.IT\",# (Information Theory)\n",
    "\"cs.NI\",# (Networking and Internet Architecture)\n",
    "\"cs.DS\",# (Data Structures and Algorithms)\n",
    "]\n",
    "\n",
    "cs_ai =[\n",
    "\"cs.CL\",# (Cryptography and Security)\n",
    "\"cs.AI\",# (Information Theory)\n",
    "\"cs.LG\",# (Networking and Internet Architecture)\n",
    "\"cs.CV\",# (Data Structures and Algorithms)\n",
    "]\n",
    "\n",
    "x = [i for i in range(2013, 2023)]"
   ]
  },
  {
   "cell_type": "code",
   "execution_count": 4,
   "id": "78e40d69-792a-4449-b34d-8887b6efca39",
   "metadata": {},
   "outputs": [
    {
     "name": "stderr",
     "output_type": "stream",
     "text": [
      "2354025it [01:10, 33416.42it/s]\n"
     ]
    }
   ],
   "source": [
    "# read json file \n",
    "path = os.path.join(os.path.dirname(os.getcwd()), \"data/categorization/arxiv-metadata-oai-snapshot.json\")\n",
    "\n",
    "with open(path, \"r\", encoding=\"utf-8\") as fp: \n",
    "    docs = pd.DataFrame(json.loads(line) for line in tqdm(fp))"
   ]
  },
  {
   "cell_type": "code",
   "execution_count": 5,
   "id": "c9aeb761-35f2-4c4f-a3b3-12a6636b9a6d",
   "metadata": {},
   "outputs": [],
   "source": [
    "all_cats = non_cs_cats + cs_non_ai_cats + cs_ai \n",
    "\n",
    "# Sort out the paper id by year and cat\n",
    "results = {}\n",
    "\n",
    "for cat in all_cats:\n",
    "    results[cat] = {year:[] for year in range(2013, 2023)}"
   ]
  },
  {
   "cell_type": "code",
   "execution_count": 6,
   "id": "7601566e-6226-423f-919f-d280a2ec5fa0",
   "metadata": {},
   "outputs": [],
   "source": [
    "for _, doc in docs.iterrows():\n",
    "    cat = doc[\"categories\"].split(\" \")[0] # get the main category\n",
    "    year = int(re.findall(r'.*([1-3][0-9]{3})', doc[\"versions\"][0][\"created\"])[0])\n",
    "    if cat in all_cats and year in range(2013, 2023):\n",
    "        results[cat][year].append(doc[\"id\"])"
   ]
  },
  {
   "cell_type": "code",
   "execution_count": 7,
   "id": "ba4f1e06-2831-4a9f-a350-09fa4832d10b",
   "metadata": {
    "scrolled": true
   },
   "outputs": [
    {
     "name": "stdout",
     "output_type": "stream",
     "text": [
      "cs.LG 2021\n",
      "6819\n",
      "cs.LG 2022\n",
      "7949\n"
     ]
    }
   ],
   "source": [
    "# fraction of old citation over the year over. Individual and average over all \n",
    "\n",
    "cats = non_cs_cats + cs_non_ai_cats + cs_ai\n",
    "\n",
    "for cat in [\"cs.LG\"]:\n",
    "    for year in range(2021, 2023):\n",
    "        print(cat, year)\n",
    "        ids = {}\n",
    "        clean_set = []\n",
    "        gt = results[cat][year]\n",
    "        \n",
    "        if os.path.exists(os.path.join(os.path.dirname(os.getcwd()),f\"data/{cat}/{year}/output.json\")):\n",
    "            with open(os.path.join(os.path.dirname(os.getcwd()),f\"data/{cat}/{year}/output.json\"), \"r\") as fp:\n",
    "                content = json.load(fp)\n",
    "                for paper in content:\n",
    "                    id = paper[\"id\"]\n",
    "                    if id in gt:\n",
    "                        if len(paper[\"reference\"]) != 0:\n",
    "                            if id not in ids: \n",
    "                                ids[id] = len(paper[\"reference\"]) \n",
    "                                clean_set.append(paper)\n",
    "                            else: \n",
    "                                if len(paper[\"reference\"]) > ids[id]:\n",
    "                                    clean_set.append(paper)\n",
    "                                    ids[id] = len(paper[\"reference\"])\n",
    "            #with open(os.path.join(os.path.dirname(os.getcwd()),f\"data/{cat}/{year}/output_clean_.json\"), \"w\") as fp:\n",
    "            #    json.dump(clean_set, fp)\n",
    "            print(len(list(ids.keys())))"
   ]
  },
  {
   "cell_type": "code",
   "execution_count": null,
   "id": "40aa516c-ceff-4716-a981-2f92bf30b3a6",
   "metadata": {},
   "outputs": [],
   "source": []
  }
 ],
 "metadata": {
  "kernelspec": {
   "display_name": "Python 3 (ipykernel)",
   "language": "python",
   "name": "python3"
  },
  "language_info": {
   "codemirror_mode": {
    "name": "ipython",
    "version": 3
   },
   "file_extension": ".py",
   "mimetype": "text/x-python",
   "name": "python",
   "nbconvert_exporter": "python",
   "pygments_lexer": "ipython3",
   "version": "3.10.12"
  }
 },
 "nbformat": 4,
 "nbformat_minor": 5
}
